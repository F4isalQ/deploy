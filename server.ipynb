{
 "cells": [
  {
   "cell_type": "code",
   "execution_count": 2,
   "id": "cc6be50b",
   "metadata": {},
   "outputs": [
    {
     "name": "stdout",
     "output_type": "stream",
     "text": [
      "Loaded the voice encoder model on cpu in 0.31 seconds.\n",
      " * Serving Flask app \"__main__\" (lazy loading)\n",
      " * Environment: production\n",
      "\u001b[31m   WARNING: This is a development server. Do not use it in a production deployment.\u001b[0m\n",
      "\u001b[2m   Use a production WSGI server instead.\u001b[0m\n",
      " * Debug mode: on\n"
     ]
    },
    {
     "name": "stderr",
     "output_type": "stream",
     "text": [
      " * Running on http://0.0.0.0:5000/ (Press CTRL+C to quit)\n",
      " * Restarting with fsevents reloader\n"
     ]
    },
    {
     "ename": "SystemExit",
     "evalue": "1",
     "output_type": "error",
     "traceback": [
      "An exception has occurred, use %tb to see the full traceback.\n",
      "\u001b[0;31mSystemExit\u001b[0m\u001b[0;31m:\u001b[0m 1\n"
     ]
    }
   ],
   "source": [
    "import pandas as pd\n",
    "from flask import Flask, request, jsonify\n",
    "import pickle\n",
    "from resemblyzer import VoiceEncoder, preprocess_wav\n",
    "import warnings\n",
    "from pydub import AudioSegment\n",
    "import torch\n",
    "from ann import ANN\n",
    "import soundfile as sf\n",
    "\n",
    "encoder = VoiceEncoder()\n",
    "warnings.filterwarnings(\"ignore\")\n",
    "\n",
    "\n",
    "#model=torch.load('/Users/saudshranr/Downloads/ann-100q-97.6.pth', map_location=\"cpu\")\n",
    "model = ANN(input_dim=256, output_dim=100)\n",
    "model.load_state_dict(torch.load('/Users/fasilsaeeud/Desktop/deploy_new/ann-100q-97.6.pth', map_location=torch.device('cpu')))\n",
    "\n",
    "\n",
    "app = Flask(__name__)\n",
    "\n",
    "#model = torch.load('/home/saudda/mysite/ann.bin')\n",
    "\n",
    "#with open('/home/saudda/mysite/ann.bin', 'rb') as f:\n",
    "    #model = pickle.load(f)\n",
    "\n",
    "#model=pickle.load('home/saudda/mysite/ann.bin','rb')\n",
    "\n",
    "def extract(fname):\n",
    "    signal, sr = sf.read('try1.wav')\n",
    "    # print(signal.float())\n",
    "    signal = encoder.embed_utterance(torch.tensor(signal))\n",
    "    return signal\n",
    "\n",
    "@app.route('/',methods=['GET','POST'])\n",
    "def predict():\n",
    "\n",
    "    logdata = request.stream.read()\n",
    "\n",
    "    with open('try1.mp3', 'wb') as f:\n",
    "        f.write(logdata)\n",
    "\n",
    "    mp3_sound = AudioSegment.from_file('try1.mp3')\n",
    "    #rename them using the old name + \".wav\"\n",
    "    mp3_sound.export('try1.wav', format=\"wav\")\n",
    "\n",
    "    f = extract('try1.wav')\n",
    "    model.eval()\n",
    "    with torch.no_grad():\n",
    "        prediction = model(torch.tensor(f[None, :]))\n",
    "\n",
    "\n",
    "    top_p, top_class = prediction.topk(1, dim=1)\n",
    "    df=pd.read_csv('/Volumes/TOSHIBA/readers_100.csv')\n",
    "    id=top_p.item()\n",
    "    data = df[df['class_id'] == id]\n",
    "    name = data['qari_ar']\n",
    "    out= str(name.item())+'_'+ str(top_class.item())\n",
    "    print(out)\n",
    "    return out\n",
    "\n",
    "\n",
    "\n",
    "@app.route('/ex',methods=['GET','POST'])\n",
    "def hello():\n",
    "    return 'hhhhhh'\n",
    "\n",
    "if __name__ == '__main__':\n",
    "    app.run(host='0.0.0.0', debug=True,port=5000)\n",
    "\n"
   ]
  },
  {
   "cell_type": "code",
   "execution_count": null,
   "id": "79c0ed45",
   "metadata": {},
   "outputs": [],
   "source": []
  }
 ],
 "metadata": {
  "kernelspec": {
   "display_name": "Python 3",
   "language": "python",
   "name": "python3"
  }
 },
 "nbformat": 4,
 "nbformat_minor": 5
}
