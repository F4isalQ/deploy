{
 "cells": [
  {
   "cell_type": "code",
   "execution_count": null,
   "id": "12e9af8e",
   "metadata": {},
   "outputs": [],
   "source": [
    "import torch\n",
    "from torch import nn\n",
    "\n",
    "\n",
    "class ANN(nn.Module):\n",
    "    def __init__(self, input_dim, output_dim):\n",
    "        super(ANN, self).__init__()\n",
    "        self.input = nn.Linear(input_dim, 800)#13, 666\n",
    "        self.hidden = nn.Linear(800, 800)#666, 300\n",
    "        self.hidden2 = nn.Linear(800, 350)#300, 128\n",
    "        self.hidden3 = nn.Linear(350, 128)  # 300, 128\n",
    "        self.output = nn.Linear(128, output_dim)#128, 5\n",
    "        # batchnorm\n",
    "        self.input_bn = nn.BatchNorm1d(800)\n",
    "        self.hidden_bn = nn.BatchNorm1d(800)\n",
    "        self.hidden2_bn = nn.BatchNorm1d(350)\n",
    "        self.hidden3_bn = nn.BatchNorm1d(128)\n",
    "        self.relu = nn.ReLU()\n",
    "        self.softmax = nn.Softmax(dim=1)\n",
    "\n",
    "    def forward(self, input_data):\n",
    "        x= input_data\n",
    "        #x = torch.mean(input_data, dim=3)\n",
    "        #x = torch.mean(x, dim=1)\n",
    "        #x = torch.flatten(input_data, start_dim=1)\n",
    "        #print(x)\n",
    "        x = self.input(x)\n",
    "        x = self.input_bn(x)\n",
    "        x = self.relu(x)\n",
    "\n",
    "        #x = self.hidden(x)\n",
    "        #x = self.hidden_bn(x)\n",
    "        #x = self.relu(x)\n",
    "\n",
    "        x = self.hidden2(x)\n",
    "        x = self.hidden2_bn(x)\n",
    "        x = self.relu(x)\n",
    "\n",
    "        x = self.hidden3(x)\n",
    "        x = self.hidden3_bn(x)\n",
    "        x = self.relu(x)\n",
    "\n",
    "        logits = self.output(x)\n",
    "        prediction = self.softmax(logits)\n",
    "\n",
    "        return prediction\n"
   ]
  }
 ],
 "metadata": {
  "kernelspec": {
   "display_name": "Python 3",
   "language": "python",
   "name": "python3"
  }
 },
 "nbformat": 4,
 "nbformat_minor": 5
}
